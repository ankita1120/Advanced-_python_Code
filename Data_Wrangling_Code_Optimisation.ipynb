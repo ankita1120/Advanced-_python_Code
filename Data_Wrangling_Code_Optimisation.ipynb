{
  "nbformat": 4,
  "nbformat_minor": 0,
  "metadata": {
    "colab": {
      "provenance": [],
      "authorship_tag": "ABX9TyPNJf+rsoYD/3b/bw5MPK9S",
      "include_colab_link": true
    },
    "kernelspec": {
      "name": "python3",
      "display_name": "Python 3"
    },
    "language_info": {
      "name": "python"
    }
  },
  "cells": [
    {
      "cell_type": "markdown",
      "metadata": {
        "id": "view-in-github",
        "colab_type": "text"
      },
      "source": [
        "<a href=\"https://colab.research.google.com/github/ankita1120/Advanced-_python_Code/blob/main/Data_Wrangling_Code_Optimisation.ipynb\" target=\"_parent\"><img src=\"https://colab.research.google.com/assets/colab-badge.svg\" alt=\"Open In Colab\"/></a>"
      ]
    },
    {
      "cell_type": "code",
      "execution_count": null,
      "metadata": {
        "colab": {
          "base_uri": "https://localhost:8080/"
        },
        "id": "Hg5H17t8G6FY",
        "outputId": "94c10669-28e5-4054-8ccf-4b3bdfac84fe"
      },
      "outputs": [
        {
          "output_type": "stream",
          "name": "stdout",
          "text": [
            "32\n"
          ]
        },
        {
          "output_type": "execute_result",
          "data": {
            "text/plain": [
              "32"
            ]
          },
          "metadata": {},
          "execution_count": 3
        }
      ],
      "source": [
        "`# NumPy for vectorization:\n",
        "import numpy as np\n",
        "a = np.array([1,2,3])\n",
        "b = np.array([4,5,6])\n",
        "dot_product = 0\n",
        "for i in range(len(a)):\n",
        "    dot_product += a[i] * b[i]\n",
        "print(dot_product)\n",
        "\n",
        "dot_product = np.dot(a,b)\n",
        "dot_product"
      ]
    },
    {
      "source": [
        "#Joblib for Caching:\n",
        "from joblib import Memory # Explicitly import Memory object\n",
        "# create a Memory object to cache function calls\n",
        "mem = Memory(location='cache')\n",
        "# define a function to calculate the mean of a list of numbers\n",
        "@mem.cache\n",
        "def calc_mean(numbers):\n",
        "  print(\"Calculating mean...\")\n",
        "  total =  sum(numbers)\n",
        "  return total / len(numbers)\n",
        "# define a list of numbers to use for testing\n",
        "my_list = [1, 2, 3, 4, 5]\n",
        "# call the function the first time, which will calculate the mean and cache the result\n",
        "result1 = calc_mean(my_list)\n",
        "\n",
        "# print the results\n",
        "print(result1)  # should be 3.0\n",
        "result2 = calc_mean(my_list) # call function again, this time it will use cache\n",
        "print(result2) # should be 3.0 (from cache)"
      ],
      "cell_type": "code",
      "metadata": {
        "colab": {
          "base_uri": "https://localhost:8080/"
        },
        "id": "OT5P3N_Ans2q",
        "outputId": "8fb55e5e-8523-470c-ae9b-a86348557702"
      },
      "execution_count": null,
      "outputs": [
        {
          "output_type": "stream",
          "name": "stdout",
          "text": [
            "________________________________________________________________________________\n",
            "[Memory] Calling __main__--content-<ipython-input-b440d53af7c5>.calc_mean...\n",
            "calc_mean([1, 2, 3, 4, 5])\n",
            "Calculating mean...\n",
            "________________________________________________________calc_mean - 0.0s, 0.0min\n",
            "3.0\n",
            "3.0\n"
          ]
        }
      ]
    },
    {
      "cell_type": "markdown",
      "source": [
        "3. Pandarallel for Parallelization"
      ],
      "metadata": {
        "id": "E4rgfy6moAET"
      }
    },
    {
      "cell_type": "code",
      "source": [
        "!pip install pandarallel"
      ],
      "metadata": {
        "colab": {
          "base_uri": "https://localhost:8080/"
        },
        "id": "9veuUP1WoA-h",
        "outputId": "a1105e7e-3d58-4138-a23d-e8c3857b498f"
      },
      "execution_count": null,
      "outputs": [
        {
          "output_type": "stream",
          "name": "stdout",
          "text": [
            "Collecting pandarallel\n",
            "  Downloading pandarallel-1.6.5.tar.gz (14 kB)\n",
            "  Preparing metadata (setup.py) ... \u001b[?25l\u001b[?25hdone\n",
            "Collecting dill>=0.3.1 (from pandarallel)\n",
            "  Downloading dill-0.3.9-py3-none-any.whl.metadata (10 kB)\n",
            "Requirement already satisfied: pandas>=1 in /usr/local/lib/python3.10/dist-packages (from pandarallel) (2.2.2)\n",
            "Requirement already satisfied: psutil in /usr/local/lib/python3.10/dist-packages (from pandarallel) (5.9.5)\n",
            "Requirement already satisfied: numpy>=1.22.4 in /usr/local/lib/python3.10/dist-packages (from pandas>=1->pandarallel) (1.26.4)\n",
            "Requirement already satisfied: python-dateutil>=2.8.2 in /usr/local/lib/python3.10/dist-packages (from pandas>=1->pandarallel) (2.8.2)\n",
            "Requirement already satisfied: pytz>=2020.1 in /usr/local/lib/python3.10/dist-packages (from pandas>=1->pandarallel) (2024.2)\n",
            "Requirement already satisfied: tzdata>=2022.7 in /usr/local/lib/python3.10/dist-packages (from pandas>=1->pandarallel) (2024.2)\n",
            "Requirement already satisfied: six>=1.5 in /usr/local/lib/python3.10/dist-packages (from python-dateutil>=2.8.2->pandas>=1->pandarallel) (1.16.0)\n",
            "Downloading dill-0.3.9-py3-none-any.whl (119 kB)\n",
            "\u001b[2K   \u001b[90m━━━━━━━━━━━━━━━━━━━━━━━━━━━━━━━━━━━━━━━━\u001b[0m \u001b[32m119.4/119.4 kB\u001b[0m \u001b[31m3.7 MB/s\u001b[0m eta \u001b[36m0:00:00\u001b[0m\n",
            "\u001b[?25hBuilding wheels for collected packages: pandarallel\n",
            "  Building wheel for pandarallel (setup.py) ... \u001b[?25l\u001b[?25hdone\n",
            "  Created wheel for pandarallel: filename=pandarallel-1.6.5-py3-none-any.whl size=16675 sha256=0f9be29cbf3bf7a71d75e55c4e9aca5d388e158d5e310357f98ed140fc57d4bb\n",
            "  Stored in directory: /root/.cache/pip/wheels/50/4f/1e/34e057bb868842209f1623f195b74fd7eda229308a7352d47f\n",
            "Successfully built pandarallel\n",
            "Installing collected packages: dill, pandarallel\n",
            "Successfully installed dill-0.3.9 pandarallel-1.6.5\n"
          ]
        }
      ]
    },
    {
      "cell_type": "code",
      "source": [
        "import pandas as pd\n",
        "from pandarallel import pandarallel\n",
        "pandarallel.initialize()\n",
        "\n",
        "df = pd.DataFrame({'A':[1,2,3,4,5] ,'B':[6,7,8,9,10]})\n",
        "def my_func(row):\n",
        "  return row['A'] + row['B']\n",
        "result = df.parallel_apply(my_func, axis=1)\n",
        "print(result)\n"
      ],
      "metadata": {
        "colab": {
          "base_uri": "https://localhost:8080/"
        },
        "id": "b9wwmHudoU9O",
        "outputId": "df120e6c-10cd-4133-dbaf-8ec7754ab50d"
      },
      "execution_count": null,
      "outputs": [
        {
          "output_type": "stream",
          "name": "stdout",
          "text": [
            "INFO: Pandarallel will run on 1 workers.\n",
            "INFO: Pandarallel will use Memory file system to transfer data between the main process and workers.\n",
            "0     7\n",
            "1     9\n",
            "2    11\n",
            "3    13\n",
            "4    15\n",
            "dtype: int64\n"
          ]
        }
      ]
    },
    {
      "cell_type": "markdown",
      "source": [
        "Asyncio for Concurrency"
      ],
      "metadata": {
        "id": "EMGnLEw3pr2y"
      }
    },
    {
      "cell_type": "code",
      "source": [
        "import threading\n",
        "import time\n",
        "\n",
        "def task(name):\n",
        "  print(f\"staring task {name}\")\n",
        "  time.sleep(2)\n",
        "  print(f\"finished task {name}\")\n",
        "\n",
        "if __name__ == '__main__':\n",
        "  threads =[threading.Thread(target=task, args=(i,)) for i in range(5)]\n",
        "  for t in threads:\n",
        "    t.start()\n",
        "\n",
        "  for t in threads:\n",
        "    t.join()\n",
        "\n",
        "  print(\"All tasks completed\")"
      ],
      "metadata": {
        "colab": {
          "base_uri": "https://localhost:8080/"
        },
        "id": "DmRLV82EpsuZ",
        "outputId": "ae1fa8c9-27cd-40dd-8db2-24e7a0a857c6"
      },
      "execution_count": null,
      "outputs": [
        {
          "output_type": "stream",
          "name": "stdout",
          "text": [
            "staring task 0\n",
            "staring task 1\n",
            "staring task 2\n",
            "staring task 3\n",
            "staring task 4\n",
            "finished task 0\n",
            "finished task 1\n",
            "finished task 2\n",
            "finished task 3\n",
            "finished task 4\n",
            "All tasks completed\n"
          ]
        }
      ]
    },
    {
      "cell_type": "code",
      "source": [
        "import pandas as pd\n",
        "\n",
        "df = pd.DataFrame({'A':[1,2,3,4,5] ,'B':[6,7,8,9,10]})\n",
        "df['A'] + df['B'] * 2\n",
        "print(df)"
      ],
      "metadata": {
        "colab": {
          "base_uri": "https://localhost:8080/"
        },
        "id": "8kCaGkBlr4kl",
        "outputId": "3b45945b-e706-4baf-8d85-fd7db4abef98"
      },
      "execution_count": null,
      "outputs": [
        {
          "output_type": "stream",
          "name": "stdout",
          "text": [
            "   A   B\n",
            "0  1   6\n",
            "1  2   7\n",
            "2  3   8\n",
            "3  4   9\n",
            "4  5  10\n"
          ]
        }
      ]
    },
    {
      "cell_type": "code",
      "source": [
        "import numpy as np\n",
        "numbers = np.arange(1,11)\n",
        "square =np.square(numbers)\n",
        "sum_of_square =np.sum(numbers)\n",
        "print(sum_of_square)"
      ],
      "metadata": {
        "colab": {
          "base_uri": "https://localhost:8080/"
        },
        "id": "yU9SZi0bHDzY",
        "outputId": "6bf47b20-8683-412f-ce94-d6ad67c1de8f"
      },
      "execution_count": null,
      "outputs": [
        {
          "output_type": "stream",
          "name": "stdout",
          "text": [
            "55\n"
          ]
        }
      ]
    },
    {
      "cell_type": "code",
      "source": [
        "\n",
        "!pip install pandarallel\n"
      ],
      "metadata": {
        "colab": {
          "base_uri": "https://localhost:8080/"
        },
        "id": "mVvzTaNQzRoa",
        "outputId": "c7fa2413-9dfa-4267-c168-917946edca97"
      },
      "execution_count": null,
      "outputs": [
        {
          "output_type": "stream",
          "name": "stdout",
          "text": [
            "Collecting pandarallel\n",
            "  Downloading pandarallel-1.6.5.tar.gz (14 kB)\n",
            "  Preparing metadata (setup.py) ... \u001b[?25l\u001b[?25hdone\n",
            "Collecting dill>=0.3.1 (from pandarallel)\n",
            "  Downloading dill-0.3.9-py3-none-any.whl.metadata (10 kB)\n",
            "Requirement already satisfied: pandas>=1 in /usr/local/lib/python3.10/dist-packages (from pandarallel) (2.2.2)\n",
            "Requirement already satisfied: psutil in /usr/local/lib/python3.10/dist-packages (from pandarallel) (5.9.5)\n",
            "Requirement already satisfied: numpy>=1.22.4 in /usr/local/lib/python3.10/dist-packages (from pandas>=1->pandarallel) (1.26.4)\n",
            "Requirement already satisfied: python-dateutil>=2.8.2 in /usr/local/lib/python3.10/dist-packages (from pandas>=1->pandarallel) (2.8.2)\n",
            "Requirement already satisfied: pytz>=2020.1 in /usr/local/lib/python3.10/dist-packages (from pandas>=1->pandarallel) (2024.2)\n",
            "Requirement already satisfied: tzdata>=2022.7 in /usr/local/lib/python3.10/dist-packages (from pandas>=1->pandarallel) (2024.2)\n",
            "Requirement already satisfied: six>=1.5 in /usr/local/lib/python3.10/dist-packages (from python-dateutil>=2.8.2->pandas>=1->pandarallel) (1.16.0)\n",
            "Downloading dill-0.3.9-py3-none-any.whl (119 kB)\n",
            "\u001b[2K   \u001b[90m━━━━━━━━━━━━━━━━━━━━━━━━━━━━━━━━━━━━━━━━\u001b[0m \u001b[32m119.4/119.4 kB\u001b[0m \u001b[31m3.5 MB/s\u001b[0m eta \u001b[36m0:00:00\u001b[0m\n",
            "\u001b[?25hBuilding wheels for collected packages: pandarallel\n",
            "  Building wheel for pandarallel (setup.py) ... \u001b[?25l\u001b[?25hdone\n",
            "  Created wheel for pandarallel: filename=pandarallel-1.6.5-py3-none-any.whl size=16674 sha256=363401eeb5bbfcb3fde1f8c31d5a60bebefed33a23caccd26a36e0521a8b8141\n",
            "  Stored in directory: /root/.cache/pip/wheels/50/4f/1e/34e057bb868842209f1623f195b74fd7eda229308a7352d47f\n",
            "Successfully built pandarallel\n",
            "Installing collected packages: dill, pandarallel\n",
            "Successfully installed dill-0.3.9 pandarallel-1.6.5\n"
          ]
        }
      ]
    },
    {
      "cell_type": "markdown",
      "source": [
        "Activity 3\n"
      ],
      "metadata": {
        "id": "l9PlU0C3z2Ca"
      }
    },
    {
      "cell_type": "code",
      "source": [
        "import pandas as pd\n",
        "from pandarallel import pandarallel\n",
        "import time\n",
        "\n",
        "# Sample data\n",
        "data = list(range(1, 1000001))\n",
        "df = pd.DataFrame(data, columns=['number'])\n",
        "\n",
        "# Define the function to be applied\n",
        "def square(x):\n",
        "    return x ** 2\n",
        "\n",
        "# Measure time without Pandarallel\n",
        "start_time = time.time()\n",
        "df['square_without_pandarallel'] = df['number'].apply(square)\n",
        "end_time = time.time()\n",
        "time_without_pandarallel = end_time - start_time\n",
        "\n",
        "# Initialize Pandarallel\n",
        "pandarallel.initialize()\n",
        "\n",
        "# Measure time with Pandarallel\n",
        "start_time = time.time()\n",
        "df['square_with_pandarallel'] = df['number'].parallel_apply(square)\n",
        "end_time = time.time()\n",
        "time_with_pandarallel = end_time - start_time\n",
        "\n",
        "# Print the execution times\n",
        "print(f\"Execution time without Pandarallel: {time_without_pandarallel:.4f} seconds\")\n",
        "print(f\"Execution time with Pandarallel: {time_with_pandarallel:.4f} seconds\")\n"
      ],
      "metadata": {
        "colab": {
          "base_uri": "https://localhost:8080/"
        },
        "id": "h4zPjTEFy-6f",
        "outputId": "3a255506-d46b-478d-92ac-9e32c5042926"
      },
      "execution_count": null,
      "outputs": [
        {
          "output_type": "stream",
          "name": "stdout",
          "text": [
            "INFO: Pandarallel will run on 1 workers.\n",
            "INFO: Pandarallel will use Memory file system to transfer data between the main process and workers.\n",
            "Execution time without Pandarallel: 0.7727 seconds\n",
            "Execution time with Pandarallel: 0.9535 seconds\n"
          ]
        }
      ]
    },
    {
      "cell_type": "markdown",
      "source": [
        "Activity 4: Square Array Elements:\n"
      ],
      "metadata": {
        "id": "3bGdcNFUz0f8"
      }
    },
    {
      "cell_type": "code",
      "source": [
        "import numpy as np\n",
        "\n",
        "def square_greater_than_equal_to_5(numbers):\n",
        "  \"\"\"Squares elements greater than or equal to 5 in a list using NumPy.\n",
        "\n",
        "  Args:\n",
        "    numbers: A list of numbers.\n",
        "\n",
        "  Returns:\n",
        "    A new list with elements squared if they are greater than or equal to 5,\n",
        "    otherwise the original element.\n",
        "  \"\"\"\n",
        "  # Convert the list to a NumPy array\n",
        "  arr = np.array(numbers)\n",
        "\n",
        "  # Create a boolean mask for elements greater than or equal to 5\n",
        "  mask = arr >= 5\n",
        "\n",
        "  # Square the elements where the mask is True\n",
        "  arr[mask] = arr[mask] ** 2\n",
        "\n",
        "  # Return the modified array as a list\n",
        "  return arr.tolist()\n",
        "\n",
        "# Example usage\n",
        "numbers = [2, 4, 6, 8, 10]\n",
        "new_numbers = square_greater_than_equal_to_5(numbers)\n",
        "print(new_numbers)  # Output: [2, 4, 36, 64, 100]"
      ],
      "metadata": {
        "colab": {
          "base_uri": "https://localhost:8080/"
        },
        "id": "E9YCoggRzz5q",
        "outputId": "a93e5601-58f1-441b-b77d-526180694874"
      },
      "execution_count": null,
      "outputs": [
        {
          "output_type": "stream",
          "name": "stdout",
          "text": [
            "[2, 4, 36, 64, 100]\n"
          ]
        }
      ]
    }
  ]
}