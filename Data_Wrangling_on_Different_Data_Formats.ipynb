{
  "nbformat": 4,
  "nbformat_minor": 0,
  "metadata": {
    "colab": {
      "provenance": [],
      "authorship_tag": "ABX9TyMDRDrFKj6nkWmsxrAR+yCu",
      "include_colab_link": true
    },
    "kernelspec": {
      "name": "python3",
      "display_name": "Python 3"
    },
    "language_info": {
      "name": "python"
    }
  },
  "cells": [
    {
      "cell_type": "markdown",
      "metadata": {
        "id": "view-in-github",
        "colab_type": "text"
      },
      "source": [
        "<a href=\"https://colab.research.google.com/github/ankita1120/Advanced-_python_Code/blob/main/Data_Wrangling_on_Different_Data_Formats.ipynb\" target=\"_parent\"><img src=\"https://colab.research.google.com/assets/colab-badge.svg\" alt=\"Open In Colab\"/></a>"
      ]
    },
    {
      "cell_type": "markdown",
      "source": [],
      "metadata": {
        "id": "bioFxj-8HbHc"
      }
    },
    {
      "cell_type": "code",
      "source": [
        "[\n",
        "  {\n",
        "    \"name\": \"John Smith\",\n",
        "    \"salary\": 50000\n",
        "  },\n",
        "  {\n",
        "    \"name\": \"Jane Doe\",\n",
        "    \"salary\": 60000\n",
        "  }\n",
        "]\n"
      ],
      "metadata": {
        "colab": {
          "base_uri": "https://localhost:8080/"
        },
        "id": "mQByGLQeAWQ-",
        "outputId": "39092737-4e31-4d56-f978-cdb473cc3c3e"
      },
      "execution_count": 17,
      "outputs": [
        {
          "output_type": "execute_result",
          "data": {
            "text/plain": [
              "[{'name': 'John Smith', 'salary': 50000},\n",
              " {'name': 'Jane Doe', 'salary': 60000}]"
            ]
          },
          "metadata": {},
          "execution_count": 17
        }
      ]
    },
    {
      "cell_type": "code",
      "source": [
        "# @title Default title text\n",
        "import json\n",
        "# JSON string\n",
        "json_string = '''\n",
        "{\n",
        "  \"name\": \"John Smith\",\n",
        "  \"age\": 30,\n",
        "  \"isMarried\": true,\n",
        "  \"hobbies\": [\"reading\", \"traveling\", \"swimming\"],\n",
        "  \"address\": {\n",
        "    \"street\": \"123 Main St\",\n",
        "    \"city\": \"New York\",\n",
        "    \"state\": \"NY\",\n",
        "    \"zip\": \"10001\"\n",
        "  }\n",
        "}\n",
        "'''\n",
        "# Parse the JSON string\n",
        "data = json.loads(json_string)\n",
        "# Access values\n",
        "print(data['name'])\n",
        "print(data['age'])\n",
        "print(data['isMarried'])\n",
        "print(data['hobbies'])\n",
        "print(data['address']['street'])\n"
      ],
      "metadata": {
        "colab": {
          "base_uri": "https://localhost:8080/"
        },
        "id": "XryVDG_a-n6v",
        "outputId": "8143407a-5fc4-456a-df71-3a7b2a926c91"
      },
      "execution_count": 16,
      "outputs": [
        {
          "output_type": "stream",
          "name": "stdout",
          "text": [
            "John Smith\n",
            "30\n",
            "True\n",
            "['reading', 'traveling', 'swimming']\n",
            "123 Main St\n"
          ]
        }
      ]
    },
    {
      "cell_type": "code",
      "source": [
        "import json\n",
        "\n",
        "# JSON string representing a list of employees\n",
        "json_string = '''\n",
        "[\n",
        "  {\n",
        "    \"name\": \"John Smith\",\n",
        "    \"salary\": 50000\n",
        "  },\n",
        "  {\n",
        "    \"name\": \"Jane Doe\",\n",
        "    \"salary\": 60000\n",
        "  }\n",
        "]\n",
        "'''\n",
        "\n",
        "# Parse the JSON string\n",
        "data = json.loads(json_string)\n",
        "\n",
        "# Fetch employee at index 0\n",
        "employee = data[0]\n",
        "\n",
        "# Correctly access the keys\n",
        "name = employee['name']\n",
        "salary = employee['salary']\n",
        "\n",
        "# Print details\n",
        "print(\"Name:\", name)\n",
        "print(\"Salary:\", salary)\n"
      ],
      "metadata": {
        "colab": {
          "base_uri": "https://localhost:8080/"
        },
        "id": "1rkiecTdAdNQ",
        "outputId": "85746923-7d1a-451d-e2fa-2a5619d7713c"
      },
      "execution_count": null,
      "outputs": [
        {
          "output_type": "stream",
          "name": "stdout",
          "text": [
            "Name: John Smith\n",
            "Salary: 50000\n"
          ]
        }
      ]
    },
    {
      "cell_type": "code",
      "source": [
        "import json\n",
        "# JSON string representing employees\n",
        "json_string ='''\n",
        "[{\n",
        "   \"name\":\"John Smith\",\n",
        "   \"salary\":50000\n",
        "},\n",
        "{\n",
        "   \"name\":\"Jane Doe\",\n",
        "   \"salary\":60000\n",
        "}\n",
        "]\n",
        "\n",
        " ''' # Removed the extra line breaks and spaces here\n",
        "data = json.loads(json_string)\n",
        "\n",
        "data[0]['salary']= int(data[0]['salary'] * 1.10)\n",
        "\n",
        "new_employee ={\n",
        "    \"name\":\"Alice Brown\",\n",
        "    \"salary\" : \"75000\"\n",
        "    }\n",
        "data.append(new_employee )\n",
        "# Example: Change the name of the second employee\n",
        "data[1]['name'] = \"Jane Smith\"\n",
        "\n",
        "# Print modified data\n",
        "print(json.dumps(data, indent=4))\n",
        "\n",
        "# Save back to a file (optional)\n",
        "with open('employees.json', 'w') as f:\n",
        "    json.dump(data, f, indent=4)"
      ],
      "metadata": {
        "colab": {
          "base_uri": "https://localhost:8080/"
        },
        "id": "z1mZcXhRQYys",
        "outputId": "b0f01c65-aea1-486e-adf9-3a697b69eabe"
      },
      "execution_count": null,
      "outputs": [
        {
          "output_type": "stream",
          "name": "stdout",
          "text": [
            "[\n",
            "    {\n",
            "        \"name\": \"John Smith\",\n",
            "        \"salary\": 55000\n",
            "    },\n",
            "    {\n",
            "        \"name\": \"Jane Smith\",\n",
            "        \"salary\": 60000\n",
            "    },\n",
            "    {\n",
            "        \"name\": \"Alice Brown\",\n",
            "        \"salary\": \"75000\"\n",
            "    }\n",
            "]\n"
          ]
        }
      ]
    },
    {
      "cell_type": "code",
      "source": [
        "# Change the department of employee at index 2 to 'hr' and increase the salary by 20%\n",
        "employee= data[2]  #Storing employee data of employee at index 2\n",
        "\n",
        "print(\"Previous Data:\")\n",
        "\n",
        "print(employee)\n",
        "\n",
        "#Modifying the data\n",
        "\n",
        "employee['department']='hr'\n",
        "\n",
        "employee['salary']= float(employee['salary']) *1.2\n",
        "\n",
        "print(\"New Data: \")\n",
        "print(employee)\n"
      ],
      "metadata": {
        "colab": {
          "base_uri": "https://localhost:8080/"
        },
        "id": "gd6PvkAzRd6b",
        "outputId": "c171e913-95a0-47d5-91ab-8bf28f5db7c9"
      },
      "execution_count": null,
      "outputs": [
        {
          "output_type": "stream",
          "name": "stdout",
          "text": [
            "Previous Data:\n",
            "{'name': 'Alice Brown', 'salary': '75000', 'department': 'hr'}\n",
            "New Data: \n",
            "{'name': 'Alice Brown', 'salary': 90000.0, 'department': 'hr'}\n"
          ]
        }
      ]
    },
    {
      "cell_type": "markdown",
      "source": [
        "1. Import the xml.etree.ElementTree module / Parse the XML file\n",
        "\n",
        "---\n",
        "\n",
        "\n",
        "\n",
        "\n",
        "\n",
        "---\n",
        "\n"
      ],
      "metadata": {
        "id": "XsjraxhUZBmf"
      }
    },
    {
      "cell_type": "code",
      "source": [
        "import xml.etree.ElementTree as ET\n",
        "import os\n",
        "from google.colab import drive\n",
        "\n",
        "# Mount Google Drive\n",
        "drive.mount('/content/drive')\n",
        "\n",
        "# Define the correct file path (fixing the typo here)\n",
        "file_path = os.path.join('/content/drive/My Drive/Colab Notebooks', 'author.xml')\n",
        "\n",
        "# Check if the file exists\n",
        "if os.path.isfile(file_path):\n",
        "    print(f\"File found: {file_path}\")\n",
        "    try:\n",
        "        # Parse the XML file\n",
        "        tree = ET.parse(file_path)\n",
        "        root = tree.getroot()\n",
        "        print(\"XML file parsed successfully!\")\n",
        "\n",
        "        # Example: Print tags and attributes of all children\n",
        "        for child in root:\n",
        "            print(f\"Tag: {child.tag}, Attributes: {child.attrib}\")\n",
        "    except ET.ParseError as e:\n",
        "        print(f\"Error parsing XML: {e}\")\n",
        "else:\n",
        "    print(f\"File not found: {file_path}\")\n"
      ],
      "metadata": {
        "colab": {
          "base_uri": "https://localhost:8080/"
        },
        "id": "4uTTk0zkXn3O",
        "outputId": "c1f95996-6193-47c2-c6ea-203e2d58f5cc"
      },
      "execution_count": null,
      "outputs": [
        {
          "output_type": "stream",
          "name": "stdout",
          "text": [
            "Mounted at /content/drive\n",
            "File found: /content/drive/My Drive/Colab Notebooks/author.xml\n",
            "XML file parsed successfully!\n",
            "Tag: book, Attributes: {'id': '1'}\n",
            "Tag: book, Attributes: {'id': '2'}\n",
            "Tag: book, Attributes: {'id': '3'}\n"
          ]
        }
      ]
    },
    {
      "cell_type": "markdown",
      "source": [
        "3. Get the root element"
      ],
      "metadata": {
        "id": "qxsG7sfTZe8W"
      }
    },
    {
      "cell_type": "code",
      "source": [
        "root = tree.getroot()\n",
        "print(root.tag)"
      ],
      "metadata": {
        "colab": {
          "base_uri": "https://localhost:8080/"
        },
        "id": "Arwpc9eeX0pd",
        "outputId": "90ef9527-89b6-476d-d169-e59fa48ca1a6"
      },
      "execution_count": null,
      "outputs": [
        {
          "output_type": "stream",
          "name": "stdout",
          "text": [
            "books\n"
          ]
        }
      ]
    },
    {
      "cell_type": "markdown",
      "source": [],
      "metadata": {
        "id": "chS3tI7BZg1N"
      }
    },
    {
      "cell_type": "markdown",
      "source": [],
      "metadata": {
        "id": "RAMgl-0lZJKn"
      }
    },
    {
      "cell_type": "markdown",
      "source": [
        "4. Accessing elements and attributes\n",
        "\n"
      ],
      "metadata": {
        "id": "kup0hlXoZj4_"
      }
    },
    {
      "cell_type": "code",
      "source": [
        "for book in root.iter('book'):\n",
        "  title = book.find('title').text\n",
        "  author = book.find('author').text\n",
        "  year = book.find('year').text\n",
        "  publisher = book.find('publisher').text\n",
        "  print(f\"Title: {title}, Author: {author}, Year: {year}, Publisher: {publisher}\")"
      ],
      "metadata": {
        "colab": {
          "base_uri": "https://localhost:8080/"
        },
        "id": "GGWhabVZYB6K",
        "outputId": "c8391145-eac3-4504-8b5f-270c91b5434e"
      },
      "execution_count": null,
      "outputs": [
        {
          "output_type": "stream",
          "name": "stdout",
          "text": [
            "Title: The Catcher in the Rye, Author: J.D. Salinger, Year: 1951, Publisher: Little, Brown and Company\n",
            "Title: To Kill a Mockingbird, Author: Harper Lee, Year: 1960, Publisher: J. B. Lippincott & Co.\n",
            "Title: 1984, Author: George Orwell, Year: 1949, Publisher: Secker & Warburg\n"
          ]
        }
      ]
    },
    {
      "cell_type": "markdown",
      "source": [
        "5. Accesing First Element\n",
        "\n",
        "\n"
      ],
      "metadata": {
        "id": "P58_qaeqZlWO"
      }
    },
    {
      "cell_type": "code",
      "source": [
        "book = root.find('book')\n",
        "title = book.find('title').text\n",
        "author = book.find('author').text\n",
        "print(f\"Title:\",title)\n",
        "print(f\"Author:\",author)"
      ],
      "metadata": {
        "colab": {
          "base_uri": "https://localhost:8080/"
        },
        "id": "LPBBg72gZv-L",
        "outputId": "393cbc1b-8220-410e-9b14-3ca47db26285"
      },
      "execution_count": null,
      "outputs": [
        {
          "output_type": "stream",
          "name": "stdout",
          "text": [
            "Title: The Catcher in the Rye\n",
            "Author: J.D. Salinger\n"
          ]
        }
      ]
    },
    {
      "cell_type": "markdown",
      "source": [
        "6. Accessing other Elements\n",
        "\n"
      ],
      "metadata": {
        "id": "YYkpU0imaSgF"
      }
    },
    {
      "cell_type": "code",
      "source": [
        "book2 = root.find(\".//book[@id = '2']\")\n",
        "if book2 is not None:\n",
        "  title = book2.find('title').text\n",
        "  author = book2.find('author').text\n",
        "  print(f\"Title:\",title)\n",
        "  print(f\"Author:\",author)\n"
      ],
      "metadata": {
        "colab": {
          "base_uri": "https://localhost:8080/"
        },
        "id": "GfPtxeasaUUP",
        "outputId": "03ea4214-3b7e-456c-a14e-03410fa291be"
      },
      "execution_count": null,
      "outputs": [
        {
          "output_type": "stream",
          "name": "stdout",
          "text": [
            "Title: To Kill a Mockingbird\n",
            "Author: Harper Lee\n"
          ]
        }
      ]
    },
    {
      "cell_type": "markdown",
      "source": [
        "7. Updating elements\n"
      ],
      "metadata": {
        "id": "QspZAqLwbAc_"
      }
    },
    {
      "cell_type": "code",
      "source": [
        "# Create a new book element\n",
        "new_book = ET.Element('book', {'id': '4'})\n",
        "title = ET.SubElement(new_book, 'title')\n",
        "title.text = 'The Great Gatsby'\n",
        "author = ET.SubElement(new_book, 'author')\n",
        "author.text = 'F. Scott Fitzgerald'\n",
        "year = ET.SubElement(new_book, 'year')\n",
        "year.text = '1925'\n",
        "publisher = ET.SubElement(new_book, 'publisher')\n",
        "publisher.text = \"Charles Scribner's Sons\"\n",
        "\n",
        "# Add the new book element to the root element\n",
        "root.append(new_book)\n",
        "\n",
        "# Write the updated XML file\n",
        "tree.write('books.xml')\n"
      ],
      "metadata": {
        "id": "dkQIQmC1bCwX"
      },
      "execution_count": null,
      "outputs": []
    },
    {
      "cell_type": "code",
      "source": [
        "import xml.etree.ElementTree as ET\n",
        "tree = ET.parse('books.xml')\n",
        "root = tree.getroot()\n",
        "book2 = root.find(\".//book[@id = '2']\")\n",
        "book2.find('title').text = 'Pride and Prejudice'\n",
        "tree.write('books.xml')\n",
        "\n",
        "for book in root.iter('book'):\n",
        "  title = book.find('title').text\n",
        "  author = book.find('author').text\n",
        "  year = book.find('year').text\n",
        "  publisher = book.find('publisher').text\n",
        "  print(f'Title: {title}')\n",
        "  print(f'Author: {author}')\n",
        "  print(f'Year: {year}')\n",
        "  print(f'Publisher: {publisher}\\n')\n",
        "\n"
      ],
      "metadata": {
        "colab": {
          "base_uri": "https://localhost:8080/"
        },
        "id": "m_97LfscVpg2",
        "outputId": "1c1ee1ea-aff4-40ec-bae3-989a1c6267a4"
      },
      "execution_count": null,
      "outputs": [
        {
          "output_type": "stream",
          "name": "stdout",
          "text": [
            "Title: The Catcher in the Rye\n",
            "Author: J.D. Salinger\n",
            "Year: 1951\n",
            "Publisher: Little, Brown and Company\n",
            "\n",
            "Title: Pride and Prejudice\n",
            "Author: Harper Lee\n",
            "Year: 1960\n",
            "Publisher: J. B. Lippincott & Co.\n",
            "\n",
            "Title: 1984\n",
            "Author: George Orwell\n",
            "Year: 1949\n",
            "Publisher: Secker & Warburg\n",
            "\n",
            "Title: The Great Gatsby\n",
            "Author: F. Scott Fitzgerald\n",
            "Year: 1925\n",
            "Publisher: Charles Scribner's Sons\n",
            "\n"
          ]
        }
      ]
    },
    {
      "cell_type": "markdown",
      "source": [
        "Deleting any particular entry can be done easily as well. Let's delete the element at the id 2.\n",
        "\n"
      ],
      "metadata": {
        "id": "Y9VLx8avYQqF"
      }
    },
    {
      "cell_type": "code",
      "source": [
        "# Find the book element with an id of 2\n",
        "book_to_delete = root.find(\"./book[@id = '2']\")\n",
        "root.remove(book_to_delete)\n",
        "\n",
        "tree.write('books.xml')"
      ],
      "metadata": {
        "id": "X40cNfUCZEyG"
      },
      "execution_count": null,
      "outputs": []
    },
    {
      "cell_type": "code",
      "source": [
        "for book in root.iter('book'):\n",
        "    title = book.find('title').text\n",
        "    author = book.find('author').text\n",
        "    year = int(book.find('year').text)\n",
        "    publisher = book.find('publisher').text\n",
        "\n",
        "    # do something with the data\n",
        "    print(f'Title: {title}')\n",
        "    print(f'Author: {author}')\n",
        "    print(f'Year: {year}')\n",
        "    print(f'Publisher: {publisher}\\n')\n"
      ],
      "metadata": {
        "colab": {
          "base_uri": "https://localhost:8080/"
        },
        "id": "7xtD8gmFZojb",
        "outputId": "8755029d-7ba7-40b8-919d-e38e743408a2"
      },
      "execution_count": null,
      "outputs": [
        {
          "output_type": "stream",
          "name": "stdout",
          "text": [
            "Title: The Catcher in the Rye\n",
            "Author: J.D. Salinger\n",
            "Year: 1951\n",
            "Publisher: Little, Brown and Company\n",
            "\n",
            "Title: 1984\n",
            "Author: George Orwell\n",
            "Year: 1949\n",
            "Publisher: Secker & Warburg\n",
            "\n",
            "Title: The Great Gatsby\n",
            "Author: F. Scott Fitzgerald\n",
            "Year: 1925\n",
            "Publisher: Charles Scribner's Sons\n",
            "\n"
          ]
        }
      ]
    },
    {
      "cell_type": "markdown",
      "source": [
        "\n",
        "Data Wrangling on Binary Data Formats\n",
        "\n",
        "1. Opening a binary file:"
      ],
      "metadata": {
        "id": "yzWdDdzoaem9"
      }
    },
    {
      "cell_type": "code",
      "source": [
        "# Correct the file path and ensure it exists\n",
        "with open(file_path, 'rb') as f:\n",
        "    binary_data = f.read()\n",
        "file_path = '/content/drive/MyDrive/Colab Notebooks/sample.html'\n",
        "\n"
      ],
      "metadata": {
        "id": "S2NP40B4cKqB"
      },
      "execution_count": null,
      "outputs": []
    },
    {
      "cell_type": "markdown",
      "source": [
        "2. Data wrangling on binary data: Images"
      ],
      "metadata": {
        "id": "ncm_RlFbckE2"
      }
    },
    {
      "cell_type": "markdown",
      "source": [
        "Activity 1\n"
      ],
      "metadata": {
        "id": "J8d9Fp_og_QW"
      }
    },
    {
      "cell_type": "code",
      "source": [
        "import pandas as pd\n",
        "from google.colab import drive\n",
        "\n",
        "# Mount Google Drive\n",
        "drive.mount('/content/drive')\n",
        "\n",
        "# Assuming your CSV file is named 'employee_data.csv' and located in '/content/drive/MyDrive/Colab Notebooks/'\n",
        "file_path = '/content/drive/MyDrive/Colab Notebooks/employee.csv'\n",
        "\n",
        "# Load the CSV file into a pandas DataFrame\n",
        "employee = pd.read_csv(file_path)\n",
        "\n",
        "# 1️⃣ Print the first 5 rows\n",
        "print(\"First 5 rows of the data:\\n\", employee.head())\n",
        "\n",
        "# 2️⃣ Calculate mean salary by gender\n",
        "mean_salary_by_gender = employee.groupby('gender')['salary'].mean()\n",
        "print(\"\\nMean salary by gender:\\n\", mean_salary_by_gender)\n",
        "\n",
        "# 3️⃣ Calculate budget allocated to each department\n",
        "department_budget = employee.groupby('department')['salary'].sum()\n",
        "print(\"\\nBudget allocated to each department:\\n\", department_budget)\n",
        "\n",
        "employee.columns = employee.columns.str.lower()\n",
        "\n",
        "print(employee.columns)\n"
      ],
      "metadata": {
        "colab": {
          "base_uri": "https://localhost:8080/"
        },
        "id": "f7a-wpfpjkjA",
        "outputId": "6052fe57-f6fc-4228-8209-2457f87f9e0b"
      },
      "execution_count": null,
      "outputs": [
        {
          "output_type": "stream",
          "name": "stdout",
          "text": [
            "Drive already mounted at /content/drive; to attempt to forcibly remount, call drive.mount(\"/content/drive\", force_remount=True).\n",
            "First 5 rows of the data:\n",
            "    id   name   age   gender department  salary\n",
            "0    1   john    20    male         hr  500000\n",
            "1    2   jane    23  female  marketing  600000\n",
            "2    3   joey    23    male         it  300000\n",
            "3    4  sarah    25  female         hr  450000\n",
            "4    5   rose    28    male         hr  700000\n",
            "\n",
            "Mean salary by gender:\n",
            " gender\n",
            "female    2530000.0\n",
            "male       575000.0\n",
            "Name: salary, dtype: float64\n",
            "\n",
            "Budget allocated to each department:\n",
            " department\n",
            "finance       800000\n",
            "hr           1650000\n",
            "it           4900000\n",
            "marketing    7600000\n",
            "Name: salary, dtype: int64\n",
            "Index(['id ', 'name ', 'age ', 'gender', 'department', 'salary'], dtype='object')\n"
          ]
        }
      ]
    },
    {
      "cell_type": "markdown",
      "source": [
        "Activity 2\n",
        "JSON data wrangling"
      ],
      "metadata": {
        "id": "75GJeBSMmt7O"
      }
    },
    {
      "cell_type": "code",
      "source": [
        "import json\n",
        "import pandas as pd\n",
        "from google.colab import drive\n",
        "\n",
        "# Mount Google Drive (if needed)\n",
        "drive.mount('/content/drive')\n",
        "\n",
        "# Load the CSV file into a pandas DataFrame\n",
        "file_path = '/content/drive/MyDrive/Colab Notebooks/employee.csv'  # Update with the correct file path\n",
        "employee = pd.read_csv(file_path)\n",
        "\n",
        "print(\"Full DataFrame in JSON format:\")\n",
        "print(json.dumps(employee.to_dict(orient='records'), indent=4))\n",
        "try:\n",
        "    employee_index_3 = employee.iloc[3].to_dict()\n",
        "    print(\"\\nData for the employee at index 3:\")\n",
        "    print(json.dumps(employee_index_3, indent=4))\n",
        "except IndexError:\n",
        "    print(\"\\nThe DataFrame has fewer than 4 rows.\")\n",
        "try:\n",
        "    employee_index_5 = employee.iloc[5].to_dict()\n",
        "\n",
        "    # Extract specific fields with safe defaults\n",
        "    name = employee_index_5.get('name', 'N/A')\n",
        "    age = employee_index_5.get('age', 'N/A')\n",
        "    gender = employee_index_5.get('gender', 'N/A')\n",
        "    department = employee_index_5.get('department', 'N/A')\n",
        "    salary = employee_index_5.get('salary', 'N/A')\n",
        "\n",
        "    # Print in the required format\n",
        "    print(\"\\nDetails of the employee at index 5:\")\n",
        "    print(f\"Name: {name}\")\n",
        "    print(f\"Age: {age}\")\n",
        "    print(f\"Gender: {gender}\")\n",
        "    print(f\"Department: {department}\")\n",
        "    print(f\"Salary: {salary}\")\n",
        "except IndexError:\n",
        "    print(\"\\nThe DataFrame has fewer than 6 rows.\")"
      ],
      "metadata": {
        "colab": {
          "base_uri": "https://localhost:8080/"
        },
        "id": "D06eqokje90G",
        "outputId": "985b7a66-4208-49f3-9d32-9b1ea870bf6d"
      },
      "execution_count": null,
      "outputs": [
        {
          "output_type": "stream",
          "name": "stdout",
          "text": [
            "Mounted at /content/drive\n",
            "Full DataFrame in JSON format:\n",
            "[\n",
            "    {\n",
            "        \"id \": 1,\n",
            "        \"name \": \"john\",\n",
            "        \"age \": 20,\n",
            "        \"gender\": \"male\",\n",
            "        \"department\": \"hr\",\n",
            "        \"salary\": 500000\n",
            "    },\n",
            "    {\n",
            "        \"id \": 2,\n",
            "        \"name \": \"jane\",\n",
            "        \"age \": 23,\n",
            "        \"gender\": \"female\",\n",
            "        \"department\": \"marketing\",\n",
            "        \"salary\": 600000\n",
            "    },\n",
            "    {\n",
            "        \"id \": 3,\n",
            "        \"name \": \"joey\",\n",
            "        \"age \": 23,\n",
            "        \"gender\": \"male\",\n",
            "        \"department\": \"it\",\n",
            "        \"salary\": 300000\n",
            "    },\n",
            "    {\n",
            "        \"id \": 4,\n",
            "        \"name \": \"sarah\",\n",
            "        \"age \": 25,\n",
            "        \"gender\": \"female\",\n",
            "        \"department\": \"hr\",\n",
            "        \"salary\": 450000\n",
            "    },\n",
            "    {\n",
            "        \"id \": 5,\n",
            "        \"name \": \"rose\",\n",
            "        \"age \": 28,\n",
            "        \"gender\": \"male\",\n",
            "        \"department\": \"hr\",\n",
            "        \"salary\": 700000\n",
            "    },\n",
            "    {\n",
            "        \"id \": 6,\n",
            "        \"name \": \"bing\",\n",
            "        \"age \": 29,\n",
            "        \"gender\": \"male\",\n",
            "        \"department\": \"finance\",\n",
            "        \"salary\": 800000\n",
            "    },\n",
            "    {\n",
            "        \"id \": 7,\n",
            "        \"name \": \"rach\",\n",
            "        \"age \": 41,\n",
            "        \"gender\": \"female\",\n",
            "        \"department\": \"it\",\n",
            "        \"salary\": 600000\n",
            "    },\n",
            "    {\n",
            "        \"id \": 8,\n",
            "        \"name \": \"monica\",\n",
            "        \"age \": 23,\n",
            "        \"gender\": \"female\",\n",
            "        \"department\": \"marketing\",\n",
            "        \"salary\": 7000000\n",
            "    },\n",
            "    {\n",
            "        \"id \": 9,\n",
            "        \"name \": \"pheebe\",\n",
            "        \"age \": 35,\n",
            "        \"gender\": \"female\",\n",
            "        \"department\": \"it\",\n",
            "        \"salary\": 4000000\n",
            "    }\n",
            "]\n",
            "\n",
            "Data for the employee at index 3:\n",
            "{\n",
            "    \"id \": 4,\n",
            "    \"name \": \"sarah\",\n",
            "    \"age \": 25,\n",
            "    \"gender\": \"female\",\n",
            "    \"department\": \"hr\",\n",
            "    \"salary\": 450000\n",
            "}\n",
            "\n",
            "Details of the employee at index 5:\n",
            "Name: N/A\n",
            "Age: N/A\n",
            "Gender: male\n",
            "Department: finance\n",
            "Salary: 800000\n"
          ]
        }
      ]
    },
    {
      "cell_type": "code",
      "source": [
        "import xml.etree.ElementTree as ET\n",
        "import os\n",
        "from google.colab import drive\n",
        "\n",
        "# Mount Google Drive\n",
        "drive.mount('/content/drive')\n",
        "\n",
        "file_path = os.path.join('/content/drive/My Drive/Colab Notebooks', 'author.xml')\n",
        "# Parse the XML file\n",
        "tree = ET.parse(file_path)  # Replace 'books.xml' with the actual file path\n",
        "root = tree.getroot()\n",
        "\n",
        "# Extract and print titles of books published before 1960\n",
        "print(\"Books published before 1960:\")\n",
        "for book in root.findall('book'):\n",
        "    year = int(book.find('year').text)  # Get the publication year\n",
        "    if year < 1960:\n",
        "        title = book.find('title').text  # Get the book title\n",
        "        print(f\"- {title}\")\n"
      ],
      "metadata": {
        "colab": {
          "base_uri": "https://localhost:8080/"
        },
        "id": "dfnv4yXumlL2",
        "outputId": "ab742951-6912-4adb-e693-92cace828677"
      },
      "execution_count": null,
      "outputs": [
        {
          "output_type": "stream",
          "name": "stdout",
          "text": [
            "Drive already mounted at /content/drive; to attempt to forcibly remount, call drive.mount(\"/content/drive\", force_remount=True).\n",
            "Books published before 1960:\n",
            "- The Catcher in the Rye\n",
            "- 1984\n"
          ]
        }
      ]
    }
  ]
}